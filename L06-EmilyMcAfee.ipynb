{
 "cells": [
  {
   "cell_type": "markdown",
   "metadata": {},
   "source": [
    "## Assignment 6\n",
    "### Author: Emily McAfee\n",
    "### Targeted Marketing Campaign"
   ]
  },
  {
   "cell_type": "code",
   "execution_count": null,
   "metadata": {},
   "outputs": [],
   "source": [
    "# Import packages\n",
    "import pandas as pd\n",
    "import numpy as np\n",
    "import matplotlib\n",
    "import matplotlib.pyplot as plt\n",
    "import seaborn\n",
    "import category_encoders as ce"
   ]
  },
  {
   "cell_type": "markdown",
   "metadata": {},
   "source": [
    "### 1. Read in, parse, and pre-process the data"
   ]
  },
  {
   "cell_type": "code",
   "execution_count": null,
   "metadata": {},
   "outputs": [],
   "source": [
    "# Read in data\n",
    "filename = \"https://library.startlearninglabs.uw.edu/DATASCI420/2019/Datasets/Bank%20Data.csv\"\n",
    "bank = pd.read_csv(filename)"
   ]
  },
  {
   "cell_type": "code",
   "execution_count": null,
   "metadata": {},
   "outputs": [],
   "source": [
    "# Check data\n",
    "print(bank.head())\n",
    "bank.dtypes"
   ]
  },
  {
   "cell_type": "markdown",
   "metadata": {},
   "source": [
    "### 2. Perform a brief exploratory analysis"
   ]
  },
  {
   "cell_type": "code",
   "execution_count": null,
   "metadata": {},
   "outputs": [],
   "source": [
    "# Explore data\n",
    "bank.describe"
   ]
  },
  {
   "cell_type": "code",
   "execution_count": null,
   "metadata": {},
   "outputs": [],
   "source": [
    "bank.info()"
   ]
  },
  {
   "cell_type": "code",
   "execution_count": null,
   "metadata": {},
   "outputs": [],
   "source": [
    "bank.isnull().sum()"
   ]
  },
  {
   "cell_type": "code",
   "execution_count": null,
   "metadata": {},
   "outputs": [],
   "source": [
    "# Plot male female\n",
    "plt.hist(bank.iloc[:,1])\n",
    "plt.show()\n",
    "bank.iloc[:,1].value_counts()"
   ]
  },
  {
   "cell_type": "code",
   "execution_count": null,
   "metadata": {},
   "outputs": [],
   "source": [
    "bank.dtypes"
   ]
  },
  {
   "cell_type": "code",
   "execution_count": null,
   "metadata": {},
   "outputs": [],
   "source": [
    "bank['region'].value_counts()"
   ]
  },
  {
   "cell_type": "code",
   "execution_count": null,
   "metadata": {},
   "outputs": [],
   "source": [
    "bank['children'].value_counts()"
   ]
  },
  {
   "cell_type": "code",
   "execution_count": null,
   "metadata": {},
   "outputs": [],
   "source": [
    "#income/age looked at through region\n",
    "seaborn.scatterplot(bank['age'], bank['income'], hue = bank['region'], alpha = .7)\n",
    "\n",
    "# Another way to do it\n",
    "#myplot = seaborn.FacetGrid(data = bank, hue = 'region', aspect = 2)\n",
    "#myplot.map(plt.scatter, 'age', 'income').add_legend()"
   ]
  },
  {
   "cell_type": "code",
   "execution_count": null,
   "metadata": {},
   "outputs": [],
   "source": [
    "# Plot age/income as a factor of sex\n",
    "seaborn.scatterplot('age', 'income', hue = 'sex', alpha = .7, data = bank)"
   ]
  },
  {
   "cell_type": "markdown",
   "metadata": {},
   "source": [
    "### 3. Compare the performance between a decision tree and a random forest approach by assessing the accuracy of each model"
   ]
  },
  {
   "cell_type": "markdown",
   "metadata": {},
   "source": [
    "#### Decision Tree model"
   ]
  },
  {
   "cell_type": "code",
   "execution_count": null,
   "metadata": {},
   "outputs": [],
   "source": [
    "# Check data\n",
    "bank"
   ]
  },
  {
   "cell_type": "code",
   "execution_count": null,
   "metadata": {},
   "outputs": [],
   "source": [
    "# One-hot encode all data\n",
    "bank2 = pd.get_dummies(bank, drop_first = True)\n",
    "bank2"
   ]
  },
  {
   "cell_type": "code",
   "execution_count": null,
   "metadata": {},
   "outputs": [],
   "source": [
    "# Check data\n",
    "bank2.dtypes"
   ]
  },
  {
   "cell_type": "code",
   "execution_count": null,
   "metadata": {},
   "outputs": [],
   "source": [
    "# Set features and target\n",
    "x = bank2.iloc[:,:-1]\n",
    "y = bank2.iloc[:,-1]"
   ]
  },
  {
   "cell_type": "code",
   "execution_count": null,
   "metadata": {},
   "outputs": [],
   "source": [
    "# Split the training and testing data\n",
    "from sklearn.model_selection import train_test_split\n",
    "x_train, x_test, y_train, y_test = train_test_split(x, y, test_size = 0.2, random_state = 1)\n",
    "\n",
    "\n"
   ]
  },
  {
   "cell_type": "code",
   "execution_count": null,
   "metadata": {},
   "outputs": [],
   "source": [
    "# Generate and evaluate the model\n",
    "from sklearn.tree import DecisionTreeClassifier\n",
    "\n",
    "# gini\n",
    "model_gini = DecisionTreeClassifier(min_samples_leaf = 3).fit(x_train, y_train)\n",
    "\n",
    "y_gini_pred = model_gini.predict(x_test)"
   ]
  },
  {
   "cell_type": "code",
   "execution_count": null,
   "metadata": {},
   "outputs": [],
   "source": [
    "# Examine accuracies\n",
    "from sklearn.metrics import accuracy_score\n",
    "\n",
    "print('Decision Tree Model Accuracy: ', accuracy_score(y_test, y_gini_pred)*100)"
   ]
  },
  {
   "cell_type": "markdown",
   "metadata": {},
   "source": [
    "#### Random forest model"
   ]
  },
  {
   "cell_type": "code",
   "execution_count": null,
   "metadata": {},
   "outputs": [],
   "source": [
    "# Set features and target\n",
    "x1_traindata, x2_testdata, y1_traindata, y2_testdata = train_test_split(x, y, test_size = 0.2, random_state = 1)"
   ]
  },
  {
   "cell_type": "code",
   "execution_count": null,
   "metadata": {},
   "outputs": [],
   "source": [
    "# Train the random forest model\n",
    "from sklearn.ensemble import RandomForestClassifier\n",
    "\n",
    "# Establish parameters\n",
    "nTrees = 13\n",
    "max_depth = 5\n",
    "min_node_size = 5\n",
    "verbose = 0\n",
    "\n",
    "# Initiate model\n",
    "clf = RandomForestClassifier(n_estimators = nTrees, max_depth = max_depth, random_state = 1, verbose = verbose, min_samples_leaf = min_node_size)\n",
    "clf.fit(x1_traindata, y1_traindata)\n",
    "print(clf.feature_importances_)"
   ]
  },
  {
   "cell_type": "code",
   "execution_count": null,
   "metadata": {},
   "outputs": [],
   "source": [
    "# Predict the testing data\n",
    "y_test_hat = clf.predict(x2_testdata)\n",
    "\n",
    "# Find accuracy\n",
    "print('Random Forest Model Accuracy: ', accuracy_score(y2_testdata, y_test_hat)*100)\n",
    "\n",
    "# Another way to do it\n",
    "# Accuracy = [1 for i in range(len(y_test_hat)) if y2_testdata.iloc[i] == y_test_hat[i]]\n",
    "# Accuracy = round(float(np.sum(Accuracy))/len(y_test_hat)*100,2)\n",
    "# print(\"Accuracy on Testing Data = %.2f%%\"%Accuracy)"
   ]
  },
  {
   "cell_type": "code",
   "execution_count": null,
   "metadata": {},
   "outputs": [],
   "source": [
    "# Compare accuracies\n",
    "print('Decision Tree Model Accuracy: ', accuracy_score(y_test, y_gini_pred)*100)\n",
    "print('Random Forest Model Accuracy: ', accuracy_score(y2_testdata, y_test_hat)*100)"
   ]
  },
  {
   "cell_type": "markdown",
   "metadata": {},
   "source": [
    "### 4. Graph the structure of your decision tree(s)"
   ]
  },
  {
   "cell_type": "markdown",
   "metadata": {},
   "source": [
    "#### Decision tree"
   ]
  },
  {
   "cell_type": "code",
   "execution_count": null,
   "metadata": {},
   "outputs": [],
   "source": [
    "estimator = model_gini\n",
    "feature_names = bank2.columns[:-1]\n",
    "\n",
    "from sklearn.tree import export_graphviz\n",
    "# Export as dot file\n",
    "export_graphviz(estimator, out_file='tree.dot', \n",
    "                feature_names = feature_names,\n",
    "                class_names = bank2.columns[-1],\n",
    "                rounded = True, proportion = False, \n",
    "                precision = 2, filled = True)\n",
    "\n",
    "# Convert to png using system command (requires Graphviz)\n",
    "from subprocess import call\n",
    "call(['dot', '-Tpng', 'tree.dot', '-o', 'tree.png', '-Gdpi=600'])\n",
    "\n",
    "# Display in jupyter notebook\n",
    "from IPython.display import Image\n",
    "Image(filename = 'tree.png')"
   ]
  },
  {
   "cell_type": "markdown",
   "metadata": {},
   "source": [
    "#### Random Forest"
   ]
  },
  {
   "cell_type": "code",
   "execution_count": null,
   "metadata": {},
   "outputs": [],
   "source": [
    "estimator = clf.estimators_[5]\n",
    "feature_names = bank2.columns[:-1]\n",
    "\n",
    "from sklearn.tree import export_graphviz\n",
    "# Export as dot file\n",
    "export_graphviz(estimator, out_file='tree.dot', \n",
    "                feature_names = feature_names,\n",
    "                class_names = bank2.columns[-1],\n",
    "                rounded = True, proportion = False, \n",
    "                precision = 2, filled = True)\n",
    "\n",
    "# Convert to png using system command (requires Graphviz)\n",
    "from subprocess import call\n",
    "call(['dot', '-Tpng', 'tree.dot', '-o', 'tree.png', '-Gdpi=600'])\n",
    "\n",
    "# Display in jupyter notebook\n",
    "from IPython.display import Image\n",
    "Image(filename = 'tree.png')"
   ]
  },
  {
   "cell_type": "markdown",
   "metadata": {},
   "source": [
    "### 5. Graph the confusion matrix of your random forest model"
   ]
  },
  {
   "cell_type": "code",
   "execution_count": null,
   "metadata": {},
   "outputs": [],
   "source": [
    "# Make conofusion matrix out of df\n",
    "from sklearn.metrics import confusion_matrix\n",
    "pd.DataFrame(\n",
    "    confusion_matrix(y2_testdata, y_test_hat),\n",
    "    columns = ['Predicted Customer', 'Predicted No Customer'],\n",
    "    index = ['True Customer', 'True No Customer']\n",
    ")"
   ]
  },
  {
   "cell_type": "code",
   "execution_count": null,
   "metadata": {},
   "outputs": [],
   "source": [
    "# Just for completeness look at the decision tree model\n",
    "pd.DataFrame(\n",
    "    confusion_matrix(y_test, y_gini_pred),\n",
    "    columns = ['Predicted Customer', 'Predicted No Customer'],\n",
    "    index = ['True Customer', 'True No Customer']\n",
    ")"
   ]
  },
  {
   "cell_type": "markdown",
   "metadata": {},
   "source": [
    "#### Summary\n",
    "The random forest model (87.5%) performed better than the decision tree classifier model (85%) with slightly varied main features chosen for each model (see visualizations for both above)."
   ]
  }
 ],
 "metadata": {
  "kernelspec": {
   "display_name": "Python 3",
   "language": "python",
   "name": "python3"
  },
  "language_info": {
   "codemirror_mode": {
    "name": "ipython",
    "version": 3
   },
   "file_extension": ".py",
   "mimetype": "text/x-python",
   "name": "python",
   "nbconvert_exporter": "python",
   "pygments_lexer": "ipython3",
   "version": "3.7.4"
  }
 },
 "nbformat": 4,
 "nbformat_minor": 2
}
